{
 "cells": [
  {
   "cell_type": "markdown",
   "metadata": {
    "colab_type": "text",
    "id": "-YibCLoSLRHp"
   },
   "source": [
    "Copyright 2018 Google LLC.\n",
    "\n",
    "Licensed under the Apache License, Version 2.0 (the \"License\");\n",
    "you may not use this file except in compliance with the License.\n",
    "You may obtain a copy of the License at\n",
    "\n",
    "https://www.apache.org/licenses/LICENSE-2.0\n",
    "\n",
    "Unless required by applicable law or agreed to in writing, software\n",
    "distributed under the License is distributed on an \"AS IS\" BASIS,\n",
    "WITHOUT WARRANTIES OR CONDITIONS OF ANY KIND, either express or implied.\n",
    "See the License for the specific language governing permissions and\n",
    "limitations under the License."
   ]
  },
  {
   "cell_type": "markdown",
   "metadata": {
    "colab_type": "text",
    "id": "LMykUGMauh9b"
   },
   "source": [
    "# Evaluation code\n",
    "\n",
    "\n",
    "__Disclaimer__\n",
    "*   This notebook contains experimental code, which may be changed without notice.\n",
    "*   The ideas here are some ideas relevant to fairness - they are not the whole story!\n",
    "\n"
   ]
  },
  {
   "cell_type": "markdown",
   "metadata": {},
   "source": [
    "# Notebook summary"
   ]
  },
  {
   "cell_type": "markdown",
   "metadata": {},
   "source": [
    "This notebook intends to evaluate a list of models on two dimensions:\n",
    "- \"Performance\": How well the model perform to classify the data (intended bias). Currently, we use the AUC.\n",
    "- \"Bias\": How much bias does the model contain (unintended bias). Currently, we use the pinned auc.\n",
    "\n",
    "This script takes the following steps:\n",
    "\n",
    "- Write input function to generate 2 datasets:\n",
    "    - A \"performance dataset\" which will be used for the first set of metrics. This dataset is supposed to be similar format to the training data (contain a piece of text and a label).\n",
    "    - A \"bias dataset\" which will be used for the second set of metrics. This data contains a piece of text, a label but also some subgroup information to evaluate the unintended bias on.\n",
    "- Runs predictions with the export_utils.\n",
    "- Evaluate metrics."
   ]
  },
  {
   "cell_type": "code",
   "execution_count": 1,
   "metadata": {},
   "outputs": [],
   "source": [
    "%load_ext autoreload"
   ]
  },
  {
   "cell_type": "code",
   "execution_count": 2,
   "metadata": {},
   "outputs": [],
   "source": [
    "%autoreload 2"
   ]
  },
  {
   "cell_type": "code",
   "execution_count": 3,
   "metadata": {},
   "outputs": [],
   "source": [
    "from __future__ import absolute_import\n",
    "from __future__ import division\n",
    "from __future__ import print_function\n",
    "\n",
    "import getpass\n",
    "from IPython.display import display\n",
    "import json\n",
    "import nltk\n",
    "import numpy as np\n",
    "import pandas as pd\n",
    "import pkg_resources\n",
    "import os\n",
    "import random\n",
    "import re\n",
    "import seaborn as sns\n",
    "\n",
    "import tensorflow as tf\n",
    "from tensorflow.python.lib.io import file_io"
   ]
  },
  {
   "cell_type": "code",
   "execution_count": 4,
   "metadata": {
    "scrolled": true
   },
   "outputs": [],
   "source": [
    "from utils_export.dataset import Dataset, Model\n",
    "from utils_export import utils_cloudml\n",
    "from utils_export import utils_tfrecords"
   ]
  },
  {
   "cell_type": "code",
   "execution_count": 5,
   "metadata": {},
   "outputs": [],
   "source": [
    "os.environ['GCS_READ_CACHE_MAX_SIZE_MB'] = '0' #Faster to access GCS file + https://github.com/tensorflow/tensorflow/issues/15530"
   ]
  },
  {
   "cell_type": "code",
   "execution_count": 6,
   "metadata": {},
   "outputs": [
    {
     "name": "stdout",
     "output_type": "stream",
     "text": [
      "[nltk_data] Downloading package punkt to\n",
      "[nltk_data]     /usr/local/google/home/lucyvasserman/nltk_data...\n",
      "[nltk_data]   Package punkt is already up-to-date!\n"
     ]
    },
    {
     "data": {
      "text/plain": [
       "True"
      ]
     },
     "execution_count": 6,
     "metadata": {},
     "output_type": "execute_result"
    }
   ],
   "source": [
    "nltk.download('punkt')"
   ]
  },
  {
   "cell_type": "markdown",
   "metadata": {},
   "source": [
    "# Settings"
   ]
  },
  {
   "cell_type": "markdown",
   "metadata": {},
   "source": [
    "### Global variables"
   ]
  },
  {
   "cell_type": "code",
   "execution_count": 7,
   "metadata": {},
   "outputs": [],
   "source": [
    "# User inputs\n",
    "PROJECT_NAME = 'wikidetox'\n",
    "\n",
    "# Information about deployed model.\n",
    "MODEL_NAMES = [\n",
    "    'tf_gru_attention_unbiasN_trainY:v_1537919376',\n",
    "    'tf_gru_attention_unbiasY_trainN:v_1537918796']\n",
    "\n",
    "# Model description\n",
    "TEXT_FEATURE_NAME = 'comment_text' #Input text\n",
    "SENTENCE_KEY = 'comment_key' #Input key\n",
    "LABEL_NAME_PREDICTION_MODEL = 'frac_neg/logistic' # Output prediction"
   ]
  },
  {
   "cell_type": "markdown",
   "metadata": {},
   "source": [
    "# Part 1: Creating input_fn"
   ]
  },
  {
   "cell_type": "code",
   "execution_count": 8,
   "metadata": {},
   "outputs": [],
   "source": [
    "def tokenizer(text, lowercase=True):\n",
    "  \"\"\"Converts text to a list of words.\n",
    "\n",
    "  Args:\n",
    "    text: piece of text to tokenize (string).\n",
    "    lowercase: whether to include lowercasing in preprocessing (boolean).\n",
    "    tokenizer: Python function to tokenize the text on.\n",
    "\n",
    "  Returns:\n",
    "    A list of strings (words).\n",
    "  \"\"\"\n",
    "  words = nltk.word_tokenize(text.decode('utf-8'))\n",
    "  if lowercase:\n",
    "    words = [w.lower() for w in words]\n",
    "  return words"
   ]
  },
  {
   "cell_type": "markdown",
   "metadata": {},
   "source": [
    "### Toxicity 2017 performance dataset"
   ]
  },
  {
   "cell_type": "code",
   "execution_count": 9,
   "metadata": {},
   "outputs": [],
   "source": [
    "# User inputs\n",
    "TOXICITY_PERFORMANCE_DATASET = 'gs://kaggle-model-experiments/resources/toxicity_q42017_test.tfrecord'\n",
    "TOXICITY_DATA_LABEL = 'frac_neg' #Name of the label in the performance dataset\n",
    "\n",
    "# DECODING\n",
    "decoding_input_features = {\n",
    "  TEXT_FEATURE_NAME: tf.FixedLenFeature([], dtype=tf.string),\n",
    "  TOXICITY_DATA_LABEL: tf.FixedLenFeature([], dtype=tf.float32)\n",
    "}\n",
    "\n",
    "def input_fn_performance_toxicity(max_n_examples=None, random_filter_keep_rate=1.0):\n",
    "    res = utils_tfrecords.decode_tf_records_to_pandas(\n",
    "        decoding_input_features,\n",
    "        TOXICITY_PERFORMANCE_DATASET,\n",
    "        max_n_examples,\n",
    "        random_filter_keep_rate)\n",
    "    res[TEXT_FEATURE_NAME] = list(map(tokenizer, res[TEXT_FEATURE_NAME]))\n",
    "    res = res.rename(columns={\n",
    "        TOXICITY_DATA_LABEL: 'label'})\n",
    "    res['label'] = list(map(lambda x: bool(round(x)), list(res['label'])))\n",
    "    final = res.copy(deep=True)\n",
    "    return final"
   ]
  },
  {
   "cell_type": "markdown",
   "metadata": {},
   "source": [
    "### Civil comments performance dataset"
   ]
  },
  {
   "cell_type": "code",
   "execution_count": 10,
   "metadata": {},
   "outputs": [],
   "source": [
    "CIVIL_COMMENTS_PATH = 'gs://kaggle-model-experiments/resources/civil_comments_data/train.tfrecord'\n",
    "THRESHOLD_BIAS_CIVIL = 0.5\n",
    "\n",
    "civil_comments_spec = {\n",
    "    'comment_text': tf.FixedLenFeature([], dtype=tf.string),\n",
    "    'id': tf.FixedLenFeature([], dtype=tf.string),\n",
    "    'toxicity': tf.FixedLenFeature([], dtype=tf.float32),\n",
    "    'severe_toxicity': tf.FixedLenFeature([], dtype=tf.float32),\n",
    "    'obscene': tf.FixedLenFeature([], dtype=tf.float32),\n",
    "    'sexual_explicit': tf.FixedLenFeature([], dtype=tf.float32),\n",
    "    'identity_attack': tf.FixedLenFeature([], dtype=tf.float32),\n",
    "    'insult': tf.FixedLenFeature([], dtype=tf.float32),\n",
    "    'threat': tf.FixedLenFeature([], dtype=tf.float32),\n",
    "    'toxicity_annotator_count': tf.FixedLenFeature([], dtype=tf.int64),\n",
    "    'identity_annotator_count': tf.FixedLenFeature([], dtype=tf.int64),\n",
    "    'male': tf.FixedLenFeature([], dtype=tf.float32, default_value=-1.),\n",
    "    'female': tf.FixedLenFeature([], dtype=tf.float32, default_value=-1.),\n",
    "    'transgender': tf.FixedLenFeature([], dtype=tf.float32, default_value=-1.),\n",
    "    'other_gender': tf.FixedLenFeature([], dtype=tf.float32, default_value=-1.),\n",
    "    'heterosexual': tf.FixedLenFeature([], dtype=tf.float32, default_value=-1.),\n",
    "    'homosexual_gay_or_lesbian': tf.FixedLenFeature([], dtype=tf.float32, default_value=-1.),\n",
    "    'bisexual': tf.FixedLenFeature([], dtype=tf.float32, default_value=-1.),\n",
    "    'other_sexual_orientation': tf.FixedLenFeature([], dtype=tf.float32, default_value=-1.),\n",
    "    'christian': tf.FixedLenFeature([], dtype=tf.float32, default_value=-1.),\n",
    "    'jewish': tf.FixedLenFeature([], dtype=tf.float32, default_value=-1.),\n",
    "    'muslim': tf.FixedLenFeature([], dtype=tf.float32, default_value=-1.),\n",
    "    'hindu': tf.FixedLenFeature([], dtype=tf.float32, default_value=-1.),\n",
    "    'buddhist': tf.FixedLenFeature([], dtype=tf.float32, default_value=-1.),\n",
    "    'atheist': tf.FixedLenFeature([], dtype=tf.float32, default_value=-1.),\n",
    "    'other_religion': tf.FixedLenFeature([], dtype=tf.float32, default_value=-1.),\n",
    "    'black': tf.FixedLenFeature([], dtype=tf.float32, default_value=-1.),\n",
    "    'white': tf.FixedLenFeature([], dtype=tf.float32, default_value=-1.),\n",
    "    'asian': tf.FixedLenFeature([], dtype=tf.float32, default_value=-1.),\n",
    "    'latino': tf.FixedLenFeature([], dtype=tf.float32, default_value=-1.),\n",
    "    'other_race_or_ethnicity': tf.FixedLenFeature([], dtype=tf.float32, default_value=-1.),\n",
    "    'physical_disability': tf.FixedLenFeature([], dtype=tf.float32, default_value=-1.),\n",
    "    'intellectual_or_learning_disability': tf.FixedLenFeature([], dtype=tf.float32, default_value=-1.),\n",
    "    'psychiatric_or_mental_illness': tf.FixedLenFeature([], dtype=tf.float32, default_value=-1.),\n",
    "    'other_disability': tf.FixedLenFeature([], dtype=tf.float32, default_value=-1.),\n",
    "}\n",
    "\n",
    "identity_terms_civil = ['male', 'female', 'transgender', 'other_gender', 'heterosexual', \n",
    "                        'homosexual_gay_or_lesbian', 'bisexual', 'other_sexual_orientation',\n",
    "                        'christian', 'jewish', 'muslim', 'hindu', 'buddhist', 'atheist',\n",
    "                        'other_religion', 'black', 'white', 'asian', 'latino', 'other_race_or_ethnicity',\n",
    "                        'physical_disability', 'intellectual_or_learning_disability',\n",
    "                        'psychiatric_or_mental_illness', 'other_disability'\n",
    "                       ]"
   ]
  },
  {
   "cell_type": "code",
   "execution_count": 11,
   "metadata": {},
   "outputs": [],
   "source": [
    "def input_fn_performance_civil(max_n_examples=None, random_filter_keep_rate=1.0):\n",
    "    civil_df_raw = utils_tfrecords.decode_tf_records_to_pandas(\n",
    "        civil_comments_spec,\n",
    "        CIVIL_COMMENTS_PATH,\n",
    "        max_n_examples=max_n_examples,\n",
    "        random_filter_keep_rate=random_filter_keep_rate,\n",
    "    )\n",
    "    civil_df_raw[TEXT_FEATURE_NAME] = list(map(tokenizer, civil_df_raw[TEXT_FEATURE_NAME]))\n",
    "    civil_df_raw['toxicity'] = list(map(lambda x: bool(round(x)), list(civil_df_raw['toxicity'])))\n",
    "    civil_df_raw = civil_df_raw.rename(columns={\n",
    "        'comment_text': TEXT_FEATURE_NAME,\n",
    "        'toxicity': 'label'})\n",
    "    res = civil_df_raw.copy(deep=True)\n",
    "    return res"
   ]
  },
  {
   "cell_type": "markdown",
   "metadata": {},
   "source": [
    "### Synthetic comment bias dataset"
   ]
  },
  {
   "cell_type": "code",
   "execution_count": 12,
   "metadata": {},
   "outputs": [
    {
     "name": "stdout",
     "output_type": "stream",
     "text": [
      "\u001b[31mCould not detect requirement name for 'git+https://github.com/conversationai/unintended-ml-bias-analysis', please specify one with #egg=your_package_name\u001b[0m\r\n"
     ]
    }
   ],
   "source": [
    "!pip install -U -q -e git+https://github.com/conversationai/unintended-ml-bias-analysis"
   ]
  },
  {
   "cell_type": "code",
   "execution_count": 13,
   "metadata": {},
   "outputs": [],
   "source": [
    "from unintended_ml_bias import model_bias_analysis"
   ]
  },
  {
   "cell_type": "code",
   "execution_count": 14,
   "metadata": {
    "scrolled": true
   },
   "outputs": [],
   "source": [
    "# Loading it from it the unintended_ml_bias github.\n",
    "entire_test_bias_df = pd.read_csv(\n",
    "    pkg_resources.resource_stream(\"unintended_ml_bias\", \"eval_datasets/bias_madlibs_77k.csv\"))\n",
    "entire_test_bias_df['raw_text'] = entire_test_bias_df['Text']\n",
    "entire_test_bias_df['label'] = entire_test_bias_df['Label']\n",
    "entire_test_bias_df['label'] = list(map(lambda x: x=='BAD', entire_test_bias_df['label']))\n",
    "entire_test_bias_df = entire_test_bias_df[['raw_text', 'label']].copy()\n",
    "identity_terms_synthetic = [line.strip()\n",
    "         for line in pkg_resources.resource_stream(\"unintended_ml_bias\", \"bias_madlibs_data/adjectives_people.txt\")]\n",
    "model_bias_analysis.add_subgroup_columns_from_text(entire_test_bias_df, 'raw_text', identity_terms_synthetic)\n",
    "# Add preprocessing\n",
    "entire_test_bias_df['text'] = list(map(tokenizer, entire_test_bias_df['raw_text']))"
   ]
  },
  {
   "cell_type": "code",
   "execution_count": 15,
   "metadata": {},
   "outputs": [],
   "source": [
    "def input_fn_bias(max_n_examples):\n",
    "    if max_n_examples:\n",
    "        res = entire_test_bias_df.sample(n=max_n_examples, random_state=2018)\n",
    "    else:\n",
    "        res = entire_test_bias_df\n",
    "    res = res.copy(deep=True)\n",
    "    res = res.rename(\n",
    "        columns={\n",
    "            'raw_text': TEXT_FEATURE_NAME\n",
    "        })\n",
    "    return res"
   ]
  },
  {
   "cell_type": "markdown",
   "metadata": {},
   "source": [
    "### Civil comment bias dataset"
   ]
  },
  {
   "cell_type": "markdown",
   "metadata": {},
   "source": [
    "Construction of this database such as:\n",
    "- we keep only examples that have identity labels (with rule: male >=0)\n",
    "- we apply the 'threshold_bias_civil' for each identity field\n",
    "- we select x% of the \"background\", i.e. examples that are 0 for each identify. \n",
    "Indeed, as the background is dominant, we want to reduce the size of the test set.  "
   ]
  },
  {
   "cell_type": "code",
   "execution_count": 16,
   "metadata": {},
   "outputs": [],
   "source": [
    "def filter_fn_civil(example, background_filter_keep_rate=0.1):\n",
    "    if example ['male'] < 0.:\n",
    "        return False\n",
    "    contains_one_identity = False\n",
    "    for _term in identity_terms_civil:\n",
    "        if example[_term] >= THRESHOLD_BIAS_CIVIL:\n",
    "            contains_one_identity = True\n",
    "    if contains_one_identity:\n",
    "        return True\n",
    "    else:\n",
    "        return (random.random() < background_filter_keep_rate)\n",
    "\n",
    "def input_fn_bias_civil(max_n_examples=None):\n",
    "    civil_df_raw = utils_tfrecords.decode_tf_records_to_pandas(\n",
    "        civil_comments_spec,\n",
    "        CIVIL_COMMENTS_PATH,\n",
    "        max_n_examples=max_n_examples,\n",
    "        filter_fn=filter_fn_civil,\n",
    "    )\n",
    "    civil_df_raw[TEXT_FEATURE_NAME] = list(map(tokenizer, civil_df_raw[TEXT_FEATURE_NAME]))\n",
    "    for _term in identity_terms_civil:\n",
    "        civil_df_raw[_term] = list(map(lambda x : x >= THRESHOLD_BIAS_CIVIL, list(civil_df_raw[_term])))\n",
    "    civil_df_raw['toxicity'] = list(map(lambda x: bool(round(x)), list(civil_df_raw['toxicity'])))\n",
    "    civil_df_raw = civil_df_raw.rename(columns={\n",
    "        'comment_text': TEXT_FEATURE_NAME,\n",
    "        'toxicity': 'label'})\n",
    "    res = civil_df_raw.copy(deep=True)\n",
    "    return res"
   ]
  },
  {
   "cell_type": "markdown",
   "metadata": {},
   "source": [
    "# Part 2: Running prediction"
   ]
  },
  {
   "cell_type": "markdown",
   "metadata": {},
   "source": [
    "### Defining the model"
   ]
  },
  {
   "cell_type": "code",
   "execution_count": 17,
   "metadata": {},
   "outputs": [],
   "source": [
    "# User inputs.\n",
    "model_input_spec = {\n",
    "    TEXT_FEATURE_NAME: utils_tfrecords.EncodingFeatureSpec.LIST_STRING} #library will use this automatically\n",
    "\n",
    "model = Model(\n",
    "    feature_keys_spec=model_input_spec,\n",
    "    prediction_keys=LABEL_NAME_PREDICTION_MODEL,\n",
    "    example_key=SENTENCE_KEY,\n",
    "    model_names=MODEL_NAMES,\n",
    "    project_name=PROJECT_NAME)"
   ]
  },
  {
   "cell_type": "markdown",
   "metadata": {},
   "source": [
    "### Performance dataset"
   ]
  },
  {
   "cell_type": "code",
   "execution_count": 18,
   "metadata": {},
   "outputs": [],
   "source": [
    "# User inputs\n",
    "SIZE_PERFORMANCE_DATA_SET = 10000\n",
    "\n",
    "# Pattern for path of tf_records\n",
    "PERFORMANCE_DATASET_DIR = os.path.join(\n",
    "    'gs://kaggle-model-experiments/',\n",
    "    getpass.getuser(),\n",
    "    'tfrecords',\n",
    "    'test_performance_toxicity')"
   ]
  },
  {
   "cell_type": "code",
   "execution_count": 19,
   "metadata": {
    "scrolled": true
   },
   "outputs": [
    {
     "name": "stdout",
     "output_type": "stream",
     "text": [
      "INFO:tensorflow:input_fn is compatible with the `Dataset` class.\n"
     ]
    },
    {
     "name": "stderr",
     "output_type": "stream",
     "text": [
      "/usr/local/google/home/lucyvasserman/conversationai-models/model_evaluation/venv/local/lib/python2.7/site-packages/tensorflow/python/client/session.py:1711: UserWarning: An interactive session is already active. This can cause out-of-memory errors in some cases. You must explicitly call `InteractiveSession.close()` to release resources held by the other session(s).\n",
      "  warnings.warn('An interactive session is already active. This can '\n"
     ]
    }
   ],
   "source": [
    "dataset_performance = Dataset(input_fn_performance_toxicity, PERFORMANCE_DATASET_DIR)\n",
    "random.seed(2018) # Need to set seed before loading data to be able to reload same data in the future\n",
    "dataset_performance.load_data(SIZE_PERFORMANCE_DATA_SET, random_filter_keep_rate=0.5)"
   ]
  },
  {
   "cell_type": "code",
   "execution_count": 20,
   "metadata": {},
   "outputs": [
    {
     "name": "stdout",
     "output_type": "stream",
     "text": [
      "INFO:tensorflow:Model is compatible with the `Dataset` instance.\n",
      "WARNING:tensorflow:Using past predictions. the data must match exactly (same number of lines and same order).\n"
     ]
    }
   ],
   "source": [
    "# Set recompute_predictions=False to save time if predictions are available.\n",
    "dataset_performance.add_model_prediction_to_data(model, recompute_predictions=True)"
   ]
  },
  {
   "cell_type": "markdown",
   "metadata": {},
   "source": [
    "### Bias dataset"
   ]
  },
  {
   "cell_type": "code",
   "execution_count": 21,
   "metadata": {},
   "outputs": [],
   "source": [
    "# User inputs\n",
    "SIZE_BIAS_DATA_SET = 20000\n",
    "\n",
    "# Pattern for path of tf_records\n",
    "BIAS_DATASET_DIR = os.path.join(\n",
    "    'gs://kaggle-model-experiments/',\n",
    "    getpass.getuser(),\n",
    "    'tfrecords',\n",
    "    'test_bias_civil_comments')"
   ]
  },
  {
   "cell_type": "code",
   "execution_count": 22,
   "metadata": {},
   "outputs": [
    {
     "name": "stdout",
     "output_type": "stream",
     "text": [
      "INFO:tensorflow:input_fn is compatible with the `Dataset` class.\n"
     ]
    }
   ],
   "source": [
    "dataset_bias = Dataset(input_fn_bias_civil, BIAS_DATASET_DIR)\n",
    "random.seed(2018) # Need to set seed before loading data to be able to reload same data in the future\n",
    "dataset_bias.load_data(SIZE_BIAS_DATA_SET)"
   ]
  },
  {
   "cell_type": "code",
   "execution_count": 23,
   "metadata": {},
   "outputs": [
    {
     "name": "stdout",
     "output_type": "stream",
     "text": [
      "INFO:tensorflow:Model is compatible with the `Dataset` instance.\n",
      "WARNING:tensorflow:Using past predictions. the data must match exactly (same number of lines and same order).\n"
     ]
    }
   ],
   "source": [
    "# Set recompute_predictions=False to save time if predictions are available.\n",
    "dataset_bias.add_model_prediction_to_data(model, recompute_predictions=True)"
   ]
  },
  {
   "cell_type": "markdown",
   "metadata": {},
   "source": [
    "### Post processing"
   ]
  },
  {
   "cell_type": "code",
   "execution_count": 24,
   "metadata": {},
   "outputs": [],
   "source": [
    "test_performance_df = dataset_performance.show_data()"
   ]
  },
  {
   "cell_type": "code",
   "execution_count": 25,
   "metadata": {},
   "outputs": [],
   "source": [
    "test_bias_df = dataset_bias.show_data()"
   ]
  },
  {
   "cell_type": "markdown",
   "metadata": {},
   "source": [
    "### Analyzing final results"
   ]
  },
  {
   "cell_type": "code",
   "execution_count": 26,
   "metadata": {
    "colab": {
     "autoexec": {
      "startup": false,
      "wait_interval": 0
     },
     "base_uri": "https://localhost:8080/",
     "height": 204
    },
    "colab_type": "code",
    "executionInfo": {
     "elapsed": 17,
     "status": "ok",
     "timestamp": 1530641283264,
     "user": {
      "displayName": "Flavien Prost",
      "photoUrl": "//lh5.googleusercontent.com/-2GvWuP8dy24/AAAAAAAAAAI/AAAAAAAAAHI/aCatYKxJMXQ/s50-c-k-no/photo.jpg",
      "userId": "100080410554240838905"
     },
     "user_tz": 240
    },
    "id": "Y7R4heIB5GaV",
    "outputId": "e8e0c3bc-96d8-4635-865a-275052054df8"
   },
   "outputs": [
    {
     "data": {
      "text/html": [
       "<div>\n",
       "<style scoped>\n",
       "    .dataframe tbody tr th:only-of-type {\n",
       "        vertical-align: middle;\n",
       "    }\n",
       "\n",
       "    .dataframe tbody tr th {\n",
       "        vertical-align: top;\n",
       "    }\n",
       "\n",
       "    .dataframe thead th {\n",
       "        text-align: right;\n",
       "    }\n",
       "</style>\n",
       "<table border=\"1\" class=\"dataframe\">\n",
       "  <thead>\n",
       "    <tr style=\"text-align: right;\">\n",
       "      <th></th>\n",
       "      <th>comment_text</th>\n",
       "      <th>label</th>\n",
       "      <th>tf_gru_attention_unbiasN_trainY:v_1537919376</th>\n",
       "      <th>tf_gru_attention_unbiasY_trainN:v_1537918796</th>\n",
       "    </tr>\n",
       "  </thead>\n",
       "  <tbody>\n",
       "    <tr>\n",
       "      <th>0</th>\n",
       "      <td>[thanks, i, appreciate, your, welcome, to, the...</td>\n",
       "      <td>False</td>\n",
       "      <td>0.000073</td>\n",
       "      <td>0.001292</td>\n",
       "    </tr>\n",
       "    <tr>\n",
       "      <th>1</th>\n",
       "      <td>[sandifer, ,, i, 'm, going, buy, my, way, back...</td>\n",
       "      <td>True</td>\n",
       "      <td>0.009869</td>\n",
       "      <td>0.067003</td>\n",
       "    </tr>\n",
       "    <tr>\n",
       "      <th>2</th>\n",
       "      <td>[``, we, do, n't, keep, non-free, material, ju...</td>\n",
       "      <td>False</td>\n",
       "      <td>0.002010</td>\n",
       "      <td>0.011768</td>\n",
       "    </tr>\n",
       "    <tr>\n",
       "      <th>3</th>\n",
       "      <td>[unblock, and, thanks, ,]</td>\n",
       "      <td>False</td>\n",
       "      <td>0.000069</td>\n",
       "      <td>0.002955</td>\n",
       "    </tr>\n",
       "    <tr>\n",
       "      <th>4</th>\n",
       "      <td>[``, '', '', ..., some, serbs, tried, to, defe...</td>\n",
       "      <td>False</td>\n",
       "      <td>0.003474</td>\n",
       "      <td>0.007628</td>\n",
       "    </tr>\n",
       "  </tbody>\n",
       "</table>\n",
       "</div>"
      ],
      "text/plain": [
       "                                        comment_text  label  \\\n",
       "0  [thanks, i, appreciate, your, welcome, to, the...  False   \n",
       "1  [sandifer, ,, i, 'm, going, buy, my, way, back...   True   \n",
       "2  [``, we, do, n't, keep, non-free, material, ju...  False   \n",
       "3                          [unblock, and, thanks, ,]  False   \n",
       "4  [``, '', '', ..., some, serbs, tried, to, defe...  False   \n",
       "\n",
       "   tf_gru_attention_unbiasN_trainY:v_1537919376  \\\n",
       "0                                      0.000073   \n",
       "1                                      0.009869   \n",
       "2                                      0.002010   \n",
       "3                                      0.000069   \n",
       "4                                      0.003474   \n",
       "\n",
       "   tf_gru_attention_unbiasY_trainN:v_1537918796  \n",
       "0                                      0.001292  \n",
       "1                                      0.067003  \n",
       "2                                      0.011768  \n",
       "3                                      0.002955  \n",
       "4                                      0.007628  "
      ]
     },
     "execution_count": 26,
     "metadata": {},
     "output_type": "execute_result"
    }
   ],
   "source": [
    "test_performance_df.head()"
   ]
  },
  {
   "cell_type": "code",
   "execution_count": 27,
   "metadata": {
    "colab": {
     "autoexec": {
      "startup": false,
      "wait_interval": 0
     },
     "base_uri": "https://localhost:8080/",
     "height": 233
    },
    "colab_type": "code",
    "executionInfo": {
     "elapsed": 41,
     "status": "ok",
     "timestamp": 1530641286091,
     "user": {
      "displayName": "Flavien Prost",
      "photoUrl": "//lh5.googleusercontent.com/-2GvWuP8dy24/AAAAAAAAAAI/AAAAAAAAAHI/aCatYKxJMXQ/s50-c-k-no/photo.jpg",
      "userId": "100080410554240838905"
     },
     "user_tz": 240
    },
    "id": "Ln2BXOg4Q6GP",
    "outputId": "bb5288e8-9f10-4796-b36e-42f5c02cb148"
   },
   "outputs": [
    {
     "data": {
      "text/html": [
       "<div>\n",
       "<style scoped>\n",
       "    .dataframe tbody tr th:only-of-type {\n",
       "        vertical-align: middle;\n",
       "    }\n",
       "\n",
       "    .dataframe tbody tr th {\n",
       "        vertical-align: top;\n",
       "    }\n",
       "\n",
       "    .dataframe thead th {\n",
       "        text-align: right;\n",
       "    }\n",
       "</style>\n",
       "<table border=\"1\" class=\"dataframe\">\n",
       "  <thead>\n",
       "    <tr style=\"text-align: right;\">\n",
       "      <th></th>\n",
       "      <th>asian</th>\n",
       "      <th>atheist</th>\n",
       "      <th>bisexual</th>\n",
       "      <th>black</th>\n",
       "      <th>buddhist</th>\n",
       "      <th>christian</th>\n",
       "      <th>comment_text</th>\n",
       "      <th>female</th>\n",
       "      <th>heterosexual</th>\n",
       "      <th>hindu</th>\n",
       "      <th>...</th>\n",
       "      <th>psychiatric_or_mental_illness</th>\n",
       "      <th>severe_toxicity</th>\n",
       "      <th>sexual_explicit</th>\n",
       "      <th>threat</th>\n",
       "      <th>label</th>\n",
       "      <th>toxicity_annotator_count</th>\n",
       "      <th>transgender</th>\n",
       "      <th>white</th>\n",
       "      <th>tf_gru_attention_unbiasN_trainY:v_1537919376</th>\n",
       "      <th>tf_gru_attention_unbiasY_trainN:v_1537918796</th>\n",
       "    </tr>\n",
       "  </thead>\n",
       "  <tbody>\n",
       "    <tr>\n",
       "      <th>0</th>\n",
       "      <td>False</td>\n",
       "      <td>False</td>\n",
       "      <td>False</td>\n",
       "      <td>False</td>\n",
       "      <td>False</td>\n",
       "      <td>False</td>\n",
       "      <td>[so, now, who, will, pay, for, ``, the, wall, ...</td>\n",
       "      <td>False</td>\n",
       "      <td>False</td>\n",
       "      <td>False</td>\n",
       "      <td>...</td>\n",
       "      <td>False</td>\n",
       "      <td>0.0</td>\n",
       "      <td>0.0</td>\n",
       "      <td>0.0</td>\n",
       "      <td>False</td>\n",
       "      <td>4</td>\n",
       "      <td>False</td>\n",
       "      <td>False</td>\n",
       "      <td>0.002755</td>\n",
       "      <td>0.011304</td>\n",
       "    </tr>\n",
       "    <tr>\n",
       "      <th>1</th>\n",
       "      <td>False</td>\n",
       "      <td>False</td>\n",
       "      <td>False</td>\n",
       "      <td>False</td>\n",
       "      <td>False</td>\n",
       "      <td>False</td>\n",
       "      <td>[they, were, attacking, francis, with, their, ...</td>\n",
       "      <td>False</td>\n",
       "      <td>False</td>\n",
       "      <td>False</td>\n",
       "      <td>...</td>\n",
       "      <td>False</td>\n",
       "      <td>0.0</td>\n",
       "      <td>0.0</td>\n",
       "      <td>0.0</td>\n",
       "      <td>False</td>\n",
       "      <td>4</td>\n",
       "      <td>False</td>\n",
       "      <td>False</td>\n",
       "      <td>0.007701</td>\n",
       "      <td>0.047250</td>\n",
       "    </tr>\n",
       "    <tr>\n",
       "      <th>2</th>\n",
       "      <td>False</td>\n",
       "      <td>False</td>\n",
       "      <td>False</td>\n",
       "      <td>False</td>\n",
       "      <td>False</td>\n",
       "      <td>True</td>\n",
       "      <td>[rule, of, law, ?, you, mean, ,, which, allowe...</td>\n",
       "      <td>False</td>\n",
       "      <td>False</td>\n",
       "      <td>False</td>\n",
       "      <td>...</td>\n",
       "      <td>False</td>\n",
       "      <td>0.0</td>\n",
       "      <td>0.0</td>\n",
       "      <td>0.0</td>\n",
       "      <td>False</td>\n",
       "      <td>4</td>\n",
       "      <td>False</td>\n",
       "      <td>False</td>\n",
       "      <td>0.015580</td>\n",
       "      <td>0.019242</td>\n",
       "    </tr>\n",
       "    <tr>\n",
       "      <th>3</th>\n",
       "      <td>False</td>\n",
       "      <td>False</td>\n",
       "      <td>False</td>\n",
       "      <td>False</td>\n",
       "      <td>False</td>\n",
       "      <td>False</td>\n",
       "      <td>[please, tell, us, why, you, trust, the, inter...</td>\n",
       "      <td>False</td>\n",
       "      <td>False</td>\n",
       "      <td>False</td>\n",
       "      <td>...</td>\n",
       "      <td>False</td>\n",
       "      <td>0.0</td>\n",
       "      <td>0.0</td>\n",
       "      <td>0.0</td>\n",
       "      <td>False</td>\n",
       "      <td>4</td>\n",
       "      <td>False</td>\n",
       "      <td>True</td>\n",
       "      <td>0.004191</td>\n",
       "      <td>0.017925</td>\n",
       "    </tr>\n",
       "    <tr>\n",
       "      <th>4</th>\n",
       "      <td>False</td>\n",
       "      <td>False</td>\n",
       "      <td>False</td>\n",
       "      <td>False</td>\n",
       "      <td>False</td>\n",
       "      <td>True</td>\n",
       "      <td>[i, see, no, sub-text, unless, it, is, amidst,...</td>\n",
       "      <td>False</td>\n",
       "      <td>False</td>\n",
       "      <td>False</td>\n",
       "      <td>...</td>\n",
       "      <td>False</td>\n",
       "      <td>0.0</td>\n",
       "      <td>0.0</td>\n",
       "      <td>0.0</td>\n",
       "      <td>False</td>\n",
       "      <td>4</td>\n",
       "      <td>False</td>\n",
       "      <td>False</td>\n",
       "      <td>0.034341</td>\n",
       "      <td>0.092397</td>\n",
       "    </tr>\n",
       "  </tbody>\n",
       "</table>\n",
       "<p>5 rows × 37 columns</p>\n",
       "</div>"
      ],
      "text/plain": [
       "   asian  atheist  bisexual  black  buddhist  christian  \\\n",
       "0  False    False     False  False     False      False   \n",
       "1  False    False     False  False     False      False   \n",
       "2  False    False     False  False     False       True   \n",
       "3  False    False     False  False     False      False   \n",
       "4  False    False     False  False     False       True   \n",
       "\n",
       "                                        comment_text  female  heterosexual  \\\n",
       "0  [so, now, who, will, pay, for, ``, the, wall, ...   False         False   \n",
       "1  [they, were, attacking, francis, with, their, ...   False         False   \n",
       "2  [rule, of, law, ?, you, mean, ,, which, allowe...   False         False   \n",
       "3  [please, tell, us, why, you, trust, the, inter...   False         False   \n",
       "4  [i, see, no, sub-text, unless, it, is, amidst,...   False         False   \n",
       "\n",
       "   hindu                      ...                       \\\n",
       "0  False                      ...                        \n",
       "1  False                      ...                        \n",
       "2  False                      ...                        \n",
       "3  False                      ...                        \n",
       "4  False                      ...                        \n",
       "\n",
       "   psychiatric_or_mental_illness severe_toxicity  sexual_explicit  threat  \\\n",
       "0                          False             0.0              0.0     0.0   \n",
       "1                          False             0.0              0.0     0.0   \n",
       "2                          False             0.0              0.0     0.0   \n",
       "3                          False             0.0              0.0     0.0   \n",
       "4                          False             0.0              0.0     0.0   \n",
       "\n",
       "   label  toxicity_annotator_count  transgender  white  \\\n",
       "0  False                         4        False  False   \n",
       "1  False                         4        False  False   \n",
       "2  False                         4        False  False   \n",
       "3  False                         4        False   True   \n",
       "4  False                         4        False  False   \n",
       "\n",
       "   tf_gru_attention_unbiasN_trainY:v_1537919376  \\\n",
       "0                                      0.002755   \n",
       "1                                      0.007701   \n",
       "2                                      0.015580   \n",
       "3                                      0.004191   \n",
       "4                                      0.034341   \n",
       "\n",
       "   tf_gru_attention_unbiasY_trainN:v_1537918796  \n",
       "0                                      0.011304  \n",
       "1                                      0.047250  \n",
       "2                                      0.019242  \n",
       "3                                      0.017925  \n",
       "4                                      0.092397  \n",
       "\n",
       "[5 rows x 37 columns]"
      ]
     },
     "execution_count": 27,
     "metadata": {},
     "output_type": "execute_result"
    }
   ],
   "source": [
    "test_bias_df.head()"
   ]
  },
  {
   "cell_type": "markdown",
   "metadata": {
    "colab_type": "text",
    "id": "8m8QI4qEjtcY"
   },
   "source": [
    "# Part 3: Run evaluation metrics"
   ]
  },
  {
   "cell_type": "markdown",
   "metadata": {
    "colab_type": "text",
    "id": "PhwSHsMtO9fF"
   },
   "source": [
    "## Performance metrics"
   ]
  },
  {
   "cell_type": "markdown",
   "metadata": {},
   "source": [
    "### Data Format"
   ]
  },
  {
   "cell_type": "markdown",
   "metadata": {},
   "source": [
    "At this point, our performance data is in DataFrame df, with columns:\n",
    "\n",
    "- label: True if the comment is Toxic, False otherwise.\n",
    "- < model name >: One column per model, cells contain the score from that model.\n",
    "You can run the analysis below on any data in this format. Subgroup labels can be generated via words in the text as done above, or come from human labels if you have them."
   ]
  },
  {
   "cell_type": "markdown",
   "metadata": {},
   "source": [
    "### Run AUC"
   ]
  },
  {
   "cell_type": "code",
   "execution_count": 28,
   "metadata": {
    "colab": {
     "autoexec": {
      "startup": false,
      "wait_interval": 0
     }
    },
    "colab_type": "code",
    "id": "XUZYCq-6N8MK"
   },
   "outputs": [],
   "source": [
    "import sklearn.metrics as metrics"
   ]
  },
  {
   "cell_type": "code",
   "execution_count": 29,
   "metadata": {
    "colab": {
     "autoexec": {
      "startup": false,
      "wait_interval": 0
     },
     "base_uri": "https://localhost:8080/",
     "height": 35
    },
    "colab_type": "code",
    "executionInfo": {
     "elapsed": 32,
     "status": "ok",
     "timestamp": 1530641399913,
     "user": {
      "displayName": "Flavien Prost",
      "photoUrl": "//lh5.googleusercontent.com/-2GvWuP8dy24/AAAAAAAAAAI/AAAAAAAAAHI/aCatYKxJMXQ/s50-c-k-no/photo.jpg",
      "userId": "100080410554240838905"
     },
     "user_tz": 240
    },
    "id": "yc8SWZbqMwA4",
    "outputId": "6e9399b8-ce22-42bb-c318-959bae73f6c0"
   },
   "outputs": [
    {
     "name": "stdout",
     "output_type": "stream",
     "text": [
      "Auc for model tf_gru_attention_unbiasY_trainN:v_1537918796: 0.91155229286\n"
     ]
    }
   ],
   "source": [
    "auc_list = []\n",
    "for _model in MODEL_NAMES:\n",
    "  fpr, tpr, thresholds = metrics.roc_curve(\n",
    "      test_performance_df['label'],\n",
    "      test_performance_df[_model])\n",
    "  auc_list.append(metrics.auc(fpr, tpr))\n",
    "print ('Auc for model {}: {}'.format(_model, np.mean(auc_list)))"
   ]
  },
  {
   "cell_type": "markdown",
   "metadata": {
    "colab_type": "text",
    "id": "vTrKsfIcxoBh"
   },
   "source": [
    "## Unintended Bias Metrics"
   ]
  },
  {
   "cell_type": "markdown",
   "metadata": {
    "colab_type": "text",
    "id": "D3ZJSKY8FHFH"
   },
   "source": [
    "### Data Format\n",
    "At this point, our bias data is in DataFrame df, with columns:\n",
    "\n",
    "*   label: True if the comment is Toxic, False otherwise.\n",
    "*   < model name >: One column per model, cells contain the score from that model.\n",
    "*   < subgroup >: One column per identity, True if the comment mentions this identity.\n",
    "\n",
    "You can run the analysis below on any data in this format. Subgroup labels can be \n",
    "generated via words in the text as done above, or come from human labels if you have them.\n"
   ]
  },
  {
   "cell_type": "code",
   "execution_count": 30,
   "metadata": {},
   "outputs": [
    {
     "name": "stdout",
     "output_type": "stream",
     "text": [
      "keeping male\n",
      "keeping female\n",
      "keeping transgender\n",
      "keeping heterosexual\n",
      "keeping homosexual_gay_or_lesbian\n",
      "keeping bisexual\n",
      "keeping christian\n",
      "keeping jewish\n",
      "keeping muslim\n",
      "keeping hindu\n",
      "keeping buddhist\n",
      "keeping atheist\n",
      "keeping other_religion\n",
      "keeping black\n",
      "keeping white\n",
      "keeping asian\n",
      "keeping latino\n",
      "keeping other_race_or_ethnicity\n",
      "keeping psychiatric_or_mental_illness\n"
     ]
    }
   ],
   "source": [
    "identity_terms_civil_included = []\n",
    "for _term in identity_terms_civil:\n",
    "    if sum(test_bias_df[_term]) >= 20:\n",
    "        print ('keeping {}'.format(_term))\n",
    "        identity_terms_civil_included.append(_term)"
   ]
  },
  {
   "cell_type": "code",
   "execution_count": 31,
   "metadata": {},
   "outputs": [],
   "source": [
    "bias_metrics = model_bias_analysis.compute_bias_metrics_for_models(test_bias_df, identity_terms_civil_included, MODEL_NAMES, 'label')"
   ]
  },
  {
   "cell_type": "code",
   "execution_count": 32,
   "metadata": {},
   "outputs": [
    {
     "data": {
      "text/plain": [
       "<matplotlib.axes._subplots.AxesSubplot at 0x7f90b81df350>"
      ]
     },
     "execution_count": 32,
     "metadata": {},
     "output_type": "execute_result"
    },
    {
     "data": {
      "image/png": "[encoded data removed]",
      "text/plain": [
       "<matplotlib.figure.Figure at 0x7f9024173b10>"
      ]
     },
     "metadata": {
      "needs_background": "light"
     },
     "output_type": "display_data"
    }
   ],
   "source": [
    "model_bias_analysis.plot_auc_heatmap(bias_metrics, MODEL_NAMES)"
   ]
  },
  {
   "cell_type": "code",
   "execution_count": 33,
   "metadata": {},
   "outputs": [
    {
     "data": {
      "text/plain": [
       "<matplotlib.axes._subplots.AxesSubplot at 0x7f902c077910>"
      ]
     },
     "execution_count": 33,
     "metadata": {},
     "output_type": "execute_result"
    },
    {
     "data": {
      "image/png": "[encoded data removed]",
      "text/plain": [
       "<matplotlib.figure.Figure at 0x7f90261ce150>"
      ]
     },
     "metadata": {
      "needs_background": "light"
     },
     "output_type": "display_data"
    }
   ],
   "source": [
    "model_bias_analysis.plot_aeg_heatmap(bias_metrics, MODEL_NAMES)"
   ]
  }
 ],
 "metadata": {
  "colab": {
   "collapsed_sections": [],
   "default_view": {},
   "name": "jigsaw-evaluation-pipeline.ipynb",
   "provenance": [],
   "version": "0.3.2",
   "views": {}
  },
  "kernelspec": {
   "display_name": "Python 2",
   "language": "python",
   "name": "python2"
  },
  "language_info": {
   "codemirror_mode": {
    "name": "ipython",
    "version": 2
   },
   "file_extension": ".py",
   "mimetype": "text/x-python",
   "name": "python",
   "nbconvert_exporter": "python",
   "pygments_lexer": "ipython2",
   "version": "2.7.13"
  }
 },
 "nbformat": 4,
 "nbformat_minor": 1
}
